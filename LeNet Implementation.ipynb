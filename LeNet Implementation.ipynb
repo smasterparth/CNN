{
 "cells": [
  {
   "cell_type": "code",
   "execution_count": 1,
   "metadata": {},
   "outputs": [],
   "source": [
    "import keras"
   ]
  },
  {
   "cell_type": "code",
   "execution_count": 2,
   "metadata": {},
   "outputs": [],
   "source": [
    "from keras.datasets import mnist\n",
    "from keras.layers import Conv2D,MaxPooling2D\n",
    "from keras.layers import Dense,Flatten\n",
    "from keras.models import Sequential"
   ]
  },
  {
   "cell_type": "code",
   "execution_count": 3,
   "metadata": {},
   "outputs": [],
   "source": [
    "(x_train,y_train),(x_test,y_test) = mnist.load_data()"
   ]
  },
  {
   "cell_type": "code",
   "execution_count": 4,
   "metadata": {},
   "outputs": [
    {
     "data": {
      "text/plain": [
       "((60000, 28, 28), (60000,))"
      ]
     },
     "execution_count": 4,
     "metadata": {},
     "output_type": "execute_result"
    }
   ],
   "source": [
    "x_train.shape , y_train.shape"
   ]
  },
  {
   "cell_type": "code",
   "execution_count": 5,
   "metadata": {},
   "outputs": [
    {
     "data": {
      "text/plain": [
       "((10000, 28, 28), (10000,))"
      ]
     },
     "execution_count": 5,
     "metadata": {},
     "output_type": "execute_result"
    }
   ],
   "source": [
    "x_test.shape,y_test.shape"
   ]
  },
  {
   "cell_type": "markdown",
   "metadata": {},
   "source": [
    "##### Normalizing data"
   ]
  },
  {
   "cell_type": "code",
   "execution_count": 6,
   "metadata": {},
   "outputs": [],
   "source": [
    "x_train = x_train.reshape(x_train.shape[0],28,28,1)\n",
    "x_test = x_test.reshape(x_test.shape[0],28,28,1)"
   ]
  },
  {
   "cell_type": "code",
   "execution_count": 7,
   "metadata": {},
   "outputs": [],
   "source": [
    "x_train = x_train/255\n",
    "x_test = x_test/255"
   ]
  },
  {
   "cell_type": "markdown",
   "metadata": {},
   "source": [
    "###### One-Hot Encoding"
   ]
  },
  {
   "cell_type": "code",
   "execution_count": 8,
   "metadata": {},
   "outputs": [],
   "source": [
    "y_train = keras.utils.to_categorical(y_train,10)\n",
    "y_test = keras.utils.to_categorical(y_test,10)"
   ]
  },
  {
   "cell_type": "code",
   "execution_count": 9,
   "metadata": {},
   "outputs": [
    {
     "data": {
      "text/plain": [
       "(60000, 10)"
      ]
     },
     "execution_count": 9,
     "metadata": {},
     "output_type": "execute_result"
    }
   ],
   "source": [
    "y_train.shape"
   ]
  },
  {
   "cell_type": "markdown",
   "metadata": {},
   "source": [
    "### Building Model Architecture"
   ]
  },
  {
   "cell_type": "markdown",
   "metadata": {},
   "source": [
    "Using 'relu' activation function"
   ]
  },
  {
   "cell_type": "code",
   "execution_count": 10,
   "metadata": {},
   "outputs": [
    {
     "name": "stdout",
     "output_type": "stream",
     "text": [
      "Epoch 1/20\n",
      "469/469 [==============================] - 8s 16ms/step - loss: 0.6872 - accuracy: 0.8008 - val_loss: 0.0882 - val_accuracy: 0.9735\n",
      "Epoch 2/20\n",
      "469/469 [==============================] - 7s 14ms/step - loss: 0.0911 - accuracy: 0.9725 - val_loss: 0.0590 - val_accuracy: 0.9817\n",
      "Epoch 3/20\n",
      "469/469 [==============================] - 7s 14ms/step - loss: 0.0625 - accuracy: 0.9811 - val_loss: 0.0548 - val_accuracy: 0.9810\n",
      "Epoch 4/20\n",
      "469/469 [==============================] - 7s 14ms/step - loss: 0.0463 - accuracy: 0.9860 - val_loss: 0.0440 - val_accuracy: 0.9854\n",
      "Epoch 5/20\n",
      "469/469 [==============================] - 7s 14ms/step - loss: 0.0361 - accuracy: 0.9883 - val_loss: 0.0488 - val_accuracy: 0.9850\n",
      "Epoch 6/20\n",
      "469/469 [==============================] - 7s 14ms/step - loss: 0.0291 - accuracy: 0.9904 - val_loss: 0.0391 - val_accuracy: 0.9871\n",
      "Epoch 7/20\n",
      "469/469 [==============================] - 7s 14ms/step - loss: 0.0274 - accuracy: 0.9914 - val_loss: 0.0362 - val_accuracy: 0.9894\n",
      "Epoch 8/20\n",
      "469/469 [==============================] - 7s 15ms/step - loss: 0.0226 - accuracy: 0.9923 - val_loss: 0.0328 - val_accuracy: 0.9898\n",
      "Epoch 9/20\n",
      "469/469 [==============================] - 7s 15ms/step - loss: 0.0203 - accuracy: 0.9929 - val_loss: 0.0382 - val_accuracy: 0.9873\n",
      "Epoch 10/20\n",
      "469/469 [==============================] - 7s 15ms/step - loss: 0.0184 - accuracy: 0.9944 - val_loss: 0.0377 - val_accuracy: 0.9871\n",
      "Epoch 11/20\n",
      "469/469 [==============================] - 7s 15ms/step - loss: 0.0172 - accuracy: 0.9940 - val_loss: 0.0400 - val_accuracy: 0.9886\n",
      "Epoch 12/20\n",
      "469/469 [==============================] - 7s 15ms/step - loss: 0.0160 - accuracy: 0.9946 - val_loss: 0.0360 - val_accuracy: 0.9896\n",
      "Epoch 13/20\n",
      "469/469 [==============================] - 7s 15ms/step - loss: 0.0127 - accuracy: 0.9961 - val_loss: 0.0327 - val_accuracy: 0.9906\n",
      "Epoch 14/20\n",
      "469/469 [==============================] - 7s 15ms/step - loss: 0.0102 - accuracy: 0.9967 - val_loss: 0.0446 - val_accuracy: 0.9886\n",
      "Epoch 15/20\n",
      "469/469 [==============================] - 7s 15ms/step - loss: 0.0106 - accuracy: 0.9967 - val_loss: 0.0369 - val_accuracy: 0.9907\n",
      "Epoch 16/20\n",
      "469/469 [==============================] - 7s 15ms/step - loss: 0.0116 - accuracy: 0.9961 - val_loss: 0.0485 - val_accuracy: 0.9875\n",
      "Epoch 17/20\n",
      "469/469 [==============================] - 7s 15ms/step - loss: 0.0090 - accuracy: 0.9969 - val_loss: 0.0418 - val_accuracy: 0.9890\n",
      "Epoch 18/20\n",
      "469/469 [==============================] - 7s 15ms/step - loss: 0.0071 - accuracy: 0.9978 - val_loss: 0.0375 - val_accuracy: 0.9898\n",
      "Epoch 19/20\n",
      "469/469 [==============================] - 7s 15ms/step - loss: 0.0077 - accuracy: 0.9972 - val_loss: 0.0429 - val_accuracy: 0.9901\n",
      "Epoch 20/20\n",
      "469/469 [==============================] - 7s 15ms/step - loss: 0.0059 - accuracy: 0.9978 - val_loss: 0.0432 - val_accuracy: 0.9890\n",
      "313/313 [==============================] - 1s 2ms/step - loss: 0.0432 - accuracy: 0.9890\n",
      "Test Loss:  0.043236639350652695\n",
      "Test Accuracy:  0.9890000224113464\n"
     ]
    }
   ],
   "source": [
    "model_1 = Sequential()\n",
    "model_1.add(Conv2D(6,kernel_size=(5,5),input_shape=(28,28,1),activation='relu'))\n",
    "model_1.add(MaxPooling2D(pool_size=(2,2)))\n",
    "model_1.add(Conv2D(16,kernel_size=(5,5),activation='relu'))\n",
    "model_1.add(MaxPooling2D(pool_size=(2,2)))\n",
    "model_1.add(Flatten())\n",
    "model_1.add(Dense(120,activation='relu'))\n",
    "model_1.add(Dense(84,activation='relu'))\n",
    "model_1.add(Dense(10,activation='softmax'))\n",
    "model_1.compile(loss=keras.metrics.categorical_crossentropy, optimizer=keras.optimizers.Adam(), metrics=['accuracy'])\n",
    "model_1.fit(x_train,y_train,batch_size=128,epochs=20,verbose=1,validation_data=(x_test,y_test))\n",
    "score = model_1.evaluate(x_test,y_test)\n",
    "print('Test Loss: ',score[0])\n",
    "print('Test Accuracy: ',score[1])"
   ]
  },
  {
   "cell_type": "markdown",
   "metadata": {},
   "source": [
    "Using 'tanh' activation function"
   ]
  },
  {
   "cell_type": "code",
   "execution_count": 12,
   "metadata": {},
   "outputs": [
    {
     "name": "stdout",
     "output_type": "stream",
     "text": [
      "Epoch 1/20\n",
      "469/469 [==============================] - 7s 15ms/step - loss: 0.5744 - accuracy: 0.8405 - val_loss: 0.0814 - val_accuracy: 0.9742\n",
      "Epoch 2/20\n",
      "469/469 [==============================] - 7s 14ms/step - loss: 0.0848 - accuracy: 0.9742 - val_loss: 0.0563 - val_accuracy: 0.9819\n",
      "Epoch 3/20\n",
      "469/469 [==============================] - 7s 14ms/step - loss: 0.0550 - accuracy: 0.9827 - val_loss: 0.0568 - val_accuracy: 0.9812\n",
      "Epoch 4/20\n",
      "469/469 [==============================] - 7s 14ms/step - loss: 0.0445 - accuracy: 0.9861 - val_loss: 0.0482 - val_accuracy: 0.9847\n",
      "Epoch 5/20\n",
      "469/469 [==============================] - 7s 14ms/step - loss: 0.0330 - accuracy: 0.9903 - val_loss: 0.0417 - val_accuracy: 0.9873\n",
      "Epoch 6/20\n",
      "469/469 [==============================] - 7s 15ms/step - loss: 0.0257 - accuracy: 0.9927 - val_loss: 0.0446 - val_accuracy: 0.9864\n",
      "Epoch 7/20\n",
      "469/469 [==============================] - 7s 15ms/step - loss: 0.0234 - accuracy: 0.9934 - val_loss: 0.0424 - val_accuracy: 0.9879\n",
      "Epoch 8/20\n",
      "469/469 [==============================] - 7s 14ms/step - loss: 0.0166 - accuracy: 0.9951 - val_loss: 0.0386 - val_accuracy: 0.9887\n",
      "Epoch 9/20\n",
      "469/469 [==============================] - 7s 16ms/step - loss: 0.0155 - accuracy: 0.9952 - val_loss: 0.0411 - val_accuracy: 0.9876\n",
      "Epoch 10/20\n",
      "469/469 [==============================] - 7s 15ms/step - loss: 0.0123 - accuracy: 0.9964 - val_loss: 0.0383 - val_accuracy: 0.9882\n",
      "Epoch 11/20\n",
      "469/469 [==============================] - 7s 15ms/step - loss: 0.0102 - accuracy: 0.9969 - val_loss: 0.0408 - val_accuracy: 0.9870\n",
      "Epoch 12/20\n",
      "469/469 [==============================] - 7s 15ms/step - loss: 0.0093 - accuracy: 0.9973 - val_loss: 0.0432 - val_accuracy: 0.9865\n",
      "Epoch 13/20\n",
      "469/469 [==============================] - 7s 15ms/step - loss: 0.0087 - accuracy: 0.9977 - val_loss: 0.0417 - val_accuracy: 0.9879\n",
      "Epoch 14/20\n",
      "469/469 [==============================] - 7s 15ms/step - loss: 0.0059 - accuracy: 0.9984 - val_loss: 0.0433 - val_accuracy: 0.9883\n",
      "Epoch 15/20\n",
      "469/469 [==============================] - 7s 15ms/step - loss: 0.0059 - accuracy: 0.9984 - val_loss: 0.0402 - val_accuracy: 0.9882\n",
      "Epoch 16/20\n",
      "469/469 [==============================] - 7s 15ms/step - loss: 0.0048 - accuracy: 0.9985 - val_loss: 0.0561 - val_accuracy: 0.9852\n",
      "Epoch 17/20\n",
      "469/469 [==============================] - 7s 16ms/step - loss: 0.0061 - accuracy: 0.9981 - val_loss: 0.0481 - val_accuracy: 0.9872\n",
      "Epoch 18/20\n",
      "469/469 [==============================] - 7s 15ms/step - loss: 0.0044 - accuracy: 0.9988 - val_loss: 0.0478 - val_accuracy: 0.9879\n",
      "Epoch 19/20\n",
      "469/469 [==============================] - 7s 15ms/step - loss: 0.0041 - accuracy: 0.9989 - val_loss: 0.0460 - val_accuracy: 0.9868\n",
      "Epoch 20/20\n",
      "469/469 [==============================] - 7s 15ms/step - loss: 0.0035 - accuracy: 0.9990 - val_loss: 0.0490 - val_accuracy: 0.9880\n",
      "313/313 [==============================] - 1s 2ms/step - loss: 0.0490 - accuracy: 0.9880\n",
      "test loss:  0.048955220729112625\n",
      "test accuracy:  0.9879999756813049\n"
     ]
    }
   ],
   "source": [
    "model_2 = Sequential()\n",
    "model_2.add(Conv2D(6,kernel_size=(5,5),input_shape=(28,28,1),activation='tanh'))\n",
    "model_2.add(MaxPooling2D(pool_size=(2,2)))\n",
    "model_2.add(Conv2D(16,kernel_size=(5,5),activation='tanh'))\n",
    "model_2.add(MaxPooling2D(pool_size=(2,2)))\n",
    "model_2.add(Flatten())\n",
    "model_2.add(Dense(120,activation='tanh'))\n",
    "model_2.add(Dense(84,activation='tanh'))\n",
    "model_2.add(Dense(10,activation='softmax'))\n",
    "model_2.compile(loss=keras.metrics.categorical_crossentropy, optimizer=keras.optimizers.Adam(), metrics=['accuracy'])\n",
    "model_2.fit(x_train,y_train,batch_size=128,epochs=20,verbose=1,validation_data=(x_test,y_test))\n",
    "score_2 = model_2.evaluate(x_test,y_test)\n",
    "print('test loss: ',score_2[0])\n",
    "print('test accuracy: ',score_2[1])"
   ]
  },
  {
   "cell_type": "code",
   "execution_count": null,
   "metadata": {},
   "outputs": [],
   "source": []
  },
  {
   "cell_type": "code",
   "execution_count": null,
   "metadata": {},
   "outputs": [],
   "source": []
  },
  {
   "cell_type": "code",
   "execution_count": null,
   "metadata": {},
   "outputs": [],
   "source": []
  },
  {
   "cell_type": "code",
   "execution_count": null,
   "metadata": {},
   "outputs": [],
   "source": []
  },
  {
   "cell_type": "code",
   "execution_count": null,
   "metadata": {},
   "outputs": [],
   "source": []
  }
 ],
 "metadata": {
  "kernelspec": {
   "display_name": "Python 3",
   "language": "python",
   "name": "python3"
  },
  "language_info": {
   "codemirror_mode": {
    "name": "ipython",
    "version": 3
   },
   "file_extension": ".py",
   "mimetype": "text/x-python",
   "name": "python",
   "nbconvert_exporter": "python",
   "pygments_lexer": "ipython3",
   "version": "3.8.5"
  }
 },
 "nbformat": 4,
 "nbformat_minor": 5
}
